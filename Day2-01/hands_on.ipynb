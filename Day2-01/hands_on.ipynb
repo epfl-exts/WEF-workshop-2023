{
 "cells": [
  {
   "attachments": {},
   "cell_type": "markdown",
   "id": "ccceafa0-9456-4bde-8cf9-f4b1b92f2f3a",
   "metadata": {},
   "source": [
    "ideas for introduction to AB slide or maybe earlier slides:\n",
    "- talk about prior predictive check\n",
    "- Beta prior <--> Binomial likelihood\n",
    "    - we observe some people converted in A and B (likelihood)\n",
    "    - We want to learn more about conversion probability theta.\n",
    "    - Hence we need Beta prior for theta\n",
    "- Exponential prior <--> Gamma likelihood\n",
    "    - we observe sum of money coming from A and B conversions (likelihood)\n",
    "    - We want to learn more about average income\n",
    "    - Hence we need an Exponential prior for mean income\n",
    "\n"
   ]
  },
  {
   "cell_type": "code",
   "execution_count": 19,
   "id": "47835251-8af1-4e7d-a7ac-943e6a45c7d1",
   "metadata": {},
   "outputs": [],
   "source": [
    "from dataclasses import dataclass\n",
    "from typing import Dict, List, Union\n",
    "\n",
    "import arviz as az\n",
    "import matplotlib.pyplot as plt\n",
    "import numpy as np\n",
    "import pandas as pd\n",
    "import pymc as pm\n",
    "\n",
    "from scipy.stats import bernoulli, expon"
   ]
  },
  {
   "cell_type": "code",
   "execution_count": 20,
   "id": "634a2884-3950-4b8a-83ec-81619870620b",
   "metadata": {},
   "outputs": [],
   "source": [
    "RANDOM_SEED = 4000\n",
    "rng = np.random.default_rng(RANDOM_SEED)\n",
    "\n",
    "#%config InlineBackend.figure_format = 'retina'\n",
    "#az.style.use(\"arviz-darkgrid\")\n",
    "\n",
    "plotting_defaults = dict(\n",
    "    bins=50,\n",
    "    kind=\"hist\",\n",
    "    textsize=10,\n",
    ")"
   ]
  },
  {
   "attachments": {},
   "cell_type": "markdown",
   "id": "9feb59e7-459c-41bf-aa30-858ef0d6b334",
   "metadata": {},
   "source": [
    "# Two Variants A, B\n",
    "## Bernoulli conversion\n",
    "### PART I: there's no data yet, let's check the prior"
   ]
  },
  {
   "cell_type": "code",
   "execution_count": 21,
   "id": "dd33eb56-4e24-42ce-8c39-65c7f96f557b",
   "metadata": {},
   "outputs": [],
   "source": [
    "@dataclass\n",
    "class BetaPrior:\n",
    "    alpha: float\n",
    "    beta: float\n",
    "\n"
   ]
  },
  {
   "cell_type": "code",
   "execution_count": 23,
   "metadata": {},
   "outputs": [],
   "source": [
    "variants  = ['A', 'B']\n",
    "trials    = [1, 1]\n",
    "successes = [1, 1]"
   ]
  },
  {
   "cell_type": "code",
   "execution_count": 24,
   "id": "305ca946-e777-4bc0-a91f-af6dd7b0a5f6",
   "metadata": {},
   "outputs": [],
   "source": [
    "weak_priors = BetaPrior(alpha=100, beta=100)"
   ]
  },
  {
   "cell_type": "code",
   "execution_count": 25,
   "id": "5e0c5d3f-276e-4d79-af55-7ec5e3c71be8",
   "metadata": {},
   "outputs": [
    {
     "name": "stderr",
     "output_type": "stream",
     "text": [
      "Sampling: [theta, y]\n"
     ]
    }
   ],
   "source": [
    "with pm.Model() as model:\n",
    "\n",
    "    theta = pm.Beta(\"theta\", \n",
    "                    alpha = weak_priors.alpha, \n",
    "                    beta  = weak_priors.beta, \n",
    "                    shape = 2)\n",
    "    \n",
    "    obs = pm.Binomial(\"y\", \n",
    "                      n = trials, \n",
    "                      p = theta, \n",
    "                      observed = successes,\n",
    "                      shape = 2) \n",
    "    \n",
    "    reluplift = pm.Deterministic(\"uplift_B\", \n",
    "                                 theta[1] / theta[0] - 1)\n",
    "\n",
    "    weak_prior_predictive = pm.sample_prior_predictive(samples=10000, return_inferencedata=False)"
   ]
  },
  {
   "cell_type": "code",
   "execution_count": 26,
   "id": "a766076d-b5cc-433b-9b15-3e7c77f20dfa",
   "metadata": {},
   "outputs": [],
   "source": [
    "strong_priors = BetaPrior(alpha=10000, beta=10000)"
   ]
  },
  {
   "cell_type": "code",
   "execution_count": 27,
   "id": "bb16ade0-7748-48b9-88ad-cacef5f00982",
   "metadata": {},
   "outputs": [
    {
     "name": "stderr",
     "output_type": "stream",
     "text": [
      "Sampling: [theta, y]\n"
     ]
    }
   ],
   "source": [
    "with pm.Model() as model:\n",
    "\n",
    "    theta = pm.Beta(\"theta\", \n",
    "                    alpha = strong_priors.alpha, \n",
    "                    beta  = strong_priors.beta, \n",
    "                    shape = 2)\n",
    "    \n",
    "    obs = pm.Binomial(\"y\", \n",
    "                      n = trials, \n",
    "                      p = theta, \n",
    "                      observed = successes,\n",
    "                      shape = 2) \n",
    "    \n",
    "    reluplift = pm.Deterministic(\"uplift_B\", \n",
    "                                 theta[1] / theta[0] - 1)\n",
    "\n",
    "    strong_prior_predictive = pm.sample_prior_predictive(samples=10000, return_inferencedata=False)"
   ]
  },
  {
   "cell_type": "code",
   "execution_count": 28,
   "id": "8308cb10-312d-4d0d-b756-907b248338c5",
   "metadata": {},
   "outputs": [
    {
     "data": {
      "text/html": [
       "<div>\n",
       "<style scoped>\n",
       "    .dataframe tbody tr th:only-of-type {\n",
       "        vertical-align: middle;\n",
       "    }\n",
       "\n",
       "    .dataframe tbody tr th {\n",
       "        vertical-align: top;\n",
       "    }\n",
       "\n",
       "    .dataframe thead th {\n",
       "        text-align: right;\n",
       "    }\n",
       "</style>\n",
       "<table border=\"1\" class=\"dataframe\">\n",
       "  <thead>\n",
       "    <tr style=\"text-align: right;\">\n",
       "      <th></th>\n",
       "      <th>theta_A</th>\n",
       "      <th>theta_B</th>\n",
       "      <th>y_A</th>\n",
       "      <th>y_B</th>\n",
       "      <th>uplift_B</th>\n",
       "    </tr>\n",
       "  </thead>\n",
       "  <tbody>\n",
       "    <tr>\n",
       "      <th>0</th>\n",
       "      <td>0.495679</td>\n",
       "      <td>0.491388</td>\n",
       "      <td>1</td>\n",
       "      <td>1</td>\n",
       "      <td>-0.008655</td>\n",
       "    </tr>\n",
       "    <tr>\n",
       "      <th>1</th>\n",
       "      <td>0.499419</td>\n",
       "      <td>0.512011</td>\n",
       "      <td>0</td>\n",
       "      <td>0</td>\n",
       "      <td>0.025214</td>\n",
       "    </tr>\n",
       "    <tr>\n",
       "      <th>2</th>\n",
       "      <td>0.529010</td>\n",
       "      <td>0.491202</td>\n",
       "      <td>1</td>\n",
       "      <td>1</td>\n",
       "      <td>-0.071470</td>\n",
       "    </tr>\n",
       "  </tbody>\n",
       "</table>\n",
       "</div>"
      ],
      "text/plain": [
       "    theta_A   theta_B  y_A  y_B  uplift_B\n",
       "0  0.495679  0.491388    1    1 -0.008655\n",
       "1  0.499419  0.512011    0    0  0.025214\n",
       "2  0.529010  0.491202    1    1 -0.071470"
      ]
     },
     "execution_count": 28,
     "metadata": {},
     "output_type": "execute_result"
    }
   ],
   "source": [
    "weak_outcome = pd.concat([pd.DataFrame(weak_prior_predictive['theta']), \n",
    "                          pd.DataFrame(weak_prior_predictive['y']),\n",
    "                          pd.DataFrame(weak_prior_predictive['uplift_B'])],\n",
    "                          axis=1)\n",
    "\n",
    "weak_outcome.columns = ['theta_A','theta_B','y_A','y_B','uplift_B']\n",
    "weak_outcome.head(3)"
   ]
  },
  {
   "cell_type": "code",
   "execution_count": 29,
   "id": "3945660f-25b7-4985-a8d0-dc9feeb4fa83",
   "metadata": {},
   "outputs": [
    {
     "data": {
      "text/html": [
       "<div>\n",
       "<style scoped>\n",
       "    .dataframe tbody tr th:only-of-type {\n",
       "        vertical-align: middle;\n",
       "    }\n",
       "\n",
       "    .dataframe tbody tr th {\n",
       "        vertical-align: top;\n",
       "    }\n",
       "\n",
       "    .dataframe thead th {\n",
       "        text-align: right;\n",
       "    }\n",
       "</style>\n",
       "<table border=\"1\" class=\"dataframe\">\n",
       "  <thead>\n",
       "    <tr style=\"text-align: right;\">\n",
       "      <th></th>\n",
       "      <th>count</th>\n",
       "      <th>mean</th>\n",
       "      <th>std</th>\n",
       "      <th>min</th>\n",
       "      <th>25%</th>\n",
       "      <th>50%</th>\n",
       "      <th>75%</th>\n",
       "      <th>max</th>\n",
       "    </tr>\n",
       "  </thead>\n",
       "  <tbody>\n",
       "    <tr>\n",
       "      <th>theta_A</th>\n",
       "      <td>10000.0</td>\n",
       "      <td>0.499742</td>\n",
       "      <td>0.035330</td>\n",
       "      <td>0.368088</td>\n",
       "      <td>0.476130</td>\n",
       "      <td>0.499743</td>\n",
       "      <td>0.523643</td>\n",
       "      <td>0.623897</td>\n",
       "    </tr>\n",
       "    <tr>\n",
       "      <th>theta_B</th>\n",
       "      <td>10000.0</td>\n",
       "      <td>0.499398</td>\n",
       "      <td>0.035389</td>\n",
       "      <td>0.381978</td>\n",
       "      <td>0.475727</td>\n",
       "      <td>0.499172</td>\n",
       "      <td>0.523163</td>\n",
       "      <td>0.647789</td>\n",
       "    </tr>\n",
       "    <tr>\n",
       "      <th>y_A</th>\n",
       "      <td>10000.0</td>\n",
       "      <td>0.500700</td>\n",
       "      <td>0.500025</td>\n",
       "      <td>0.000000</td>\n",
       "      <td>0.000000</td>\n",
       "      <td>1.000000</td>\n",
       "      <td>1.000000</td>\n",
       "      <td>1.000000</td>\n",
       "    </tr>\n",
       "    <tr>\n",
       "      <th>y_B</th>\n",
       "      <td>10000.0</td>\n",
       "      <td>0.501600</td>\n",
       "      <td>0.500022</td>\n",
       "      <td>0.000000</td>\n",
       "      <td>0.000000</td>\n",
       "      <td>1.000000</td>\n",
       "      <td>1.000000</td>\n",
       "      <td>1.000000</td>\n",
       "    </tr>\n",
       "    <tr>\n",
       "      <th>uplift_B</th>\n",
       "      <td>10000.0</td>\n",
       "      <td>0.004476</td>\n",
       "      <td>0.102346</td>\n",
       "      <td>-0.346444</td>\n",
       "      <td>-0.066277</td>\n",
       "      <td>-0.000141</td>\n",
       "      <td>0.068859</td>\n",
       "      <td>0.498347</td>\n",
       "    </tr>\n",
       "  </tbody>\n",
       "</table>\n",
       "</div>"
      ],
      "text/plain": [
       "            count      mean       std       min       25%       50%       75%  \\\n",
       "theta_A   10000.0  0.499742  0.035330  0.368088  0.476130  0.499743  0.523643   \n",
       "theta_B   10000.0  0.499398  0.035389  0.381978  0.475727  0.499172  0.523163   \n",
       "y_A       10000.0  0.500700  0.500025  0.000000  0.000000  1.000000  1.000000   \n",
       "y_B       10000.0  0.501600  0.500022  0.000000  0.000000  1.000000  1.000000   \n",
       "uplift_B  10000.0  0.004476  0.102346 -0.346444 -0.066277 -0.000141  0.068859   \n",
       "\n",
       "               max  \n",
       "theta_A   0.623897  \n",
       "theta_B   0.647789  \n",
       "y_A       1.000000  \n",
       "y_B       1.000000  \n",
       "uplift_B  0.498347  "
      ]
     },
     "execution_count": 29,
     "metadata": {},
     "output_type": "execute_result"
    }
   ],
   "source": [
    "weak_outcome.describe().T"
   ]
  },
  {
   "cell_type": "code",
   "execution_count": 30,
   "id": "856cc438-8b3b-41e5-8f11-44b533ef5aa4",
   "metadata": {},
   "outputs": [
    {
     "data": {
      "text/html": [
       "<div>\n",
       "<style scoped>\n",
       "    .dataframe tbody tr th:only-of-type {\n",
       "        vertical-align: middle;\n",
       "    }\n",
       "\n",
       "    .dataframe tbody tr th {\n",
       "        vertical-align: top;\n",
       "    }\n",
       "\n",
       "    .dataframe thead th {\n",
       "        text-align: right;\n",
       "    }\n",
       "</style>\n",
       "<table border=\"1\" class=\"dataframe\">\n",
       "  <thead>\n",
       "    <tr style=\"text-align: right;\">\n",
       "      <th></th>\n",
       "      <th>theta_A</th>\n",
       "      <th>theta_B</th>\n",
       "      <th>y_A</th>\n",
       "      <th>y_B</th>\n",
       "      <th>uplift_B</th>\n",
       "    </tr>\n",
       "  </thead>\n",
       "  <tbody>\n",
       "    <tr>\n",
       "      <th>0</th>\n",
       "      <td>0.503160</td>\n",
       "      <td>0.498370</td>\n",
       "      <td>0</td>\n",
       "      <td>1</td>\n",
       "      <td>-0.009519</td>\n",
       "    </tr>\n",
       "    <tr>\n",
       "      <th>1</th>\n",
       "      <td>0.493863</td>\n",
       "      <td>0.502653</td>\n",
       "      <td>1</td>\n",
       "      <td>0</td>\n",
       "      <td>0.017799</td>\n",
       "    </tr>\n",
       "    <tr>\n",
       "      <th>2</th>\n",
       "      <td>0.496420</td>\n",
       "      <td>0.502091</td>\n",
       "      <td>0</td>\n",
       "      <td>1</td>\n",
       "      <td>0.011425</td>\n",
       "    </tr>\n",
       "  </tbody>\n",
       "</table>\n",
       "</div>"
      ],
      "text/plain": [
       "    theta_A   theta_B  y_A  y_B  uplift_B\n",
       "0  0.503160  0.498370    0    1 -0.009519\n",
       "1  0.493863  0.502653    1    0  0.017799\n",
       "2  0.496420  0.502091    0    1  0.011425"
      ]
     },
     "execution_count": 30,
     "metadata": {},
     "output_type": "execute_result"
    }
   ],
   "source": [
    "strong_outcome = pd.concat([pd.DataFrame(strong_prior_predictive['theta']), \n",
    "                             pd.DataFrame(strong_prior_predictive['y']),\n",
    "                             pd.DataFrame(strong_prior_predictive['uplift_B'])],\n",
    "                             axis=1)\n",
    "\n",
    "strong_outcome.columns = ['theta_A','theta_B','y_A','y_B','uplift_B']\n",
    "strong_outcome.head(3)"
   ]
  },
  {
   "cell_type": "code",
   "execution_count": 31,
   "id": "bb83c7b3-85b5-4d29-822d-9382d0e4abc4",
   "metadata": {},
   "outputs": [
    {
     "data": {
      "text/html": [
       "<div>\n",
       "<style scoped>\n",
       "    .dataframe tbody tr th:only-of-type {\n",
       "        vertical-align: middle;\n",
       "    }\n",
       "\n",
       "    .dataframe tbody tr th {\n",
       "        vertical-align: top;\n",
       "    }\n",
       "\n",
       "    .dataframe thead th {\n",
       "        text-align: right;\n",
       "    }\n",
       "</style>\n",
       "<table border=\"1\" class=\"dataframe\">\n",
       "  <thead>\n",
       "    <tr style=\"text-align: right;\">\n",
       "      <th></th>\n",
       "      <th>count</th>\n",
       "      <th>mean</th>\n",
       "      <th>std</th>\n",
       "      <th>min</th>\n",
       "      <th>25%</th>\n",
       "      <th>50%</th>\n",
       "      <th>75%</th>\n",
       "      <th>max</th>\n",
       "    </tr>\n",
       "  </thead>\n",
       "  <tbody>\n",
       "    <tr>\n",
       "      <th>theta_A</th>\n",
       "      <td>10000.0</td>\n",
       "      <td>0.499981</td>\n",
       "      <td>0.003550</td>\n",
       "      <td>0.486897</td>\n",
       "      <td>0.497561</td>\n",
       "      <td>0.499964</td>\n",
       "      <td>0.502415</td>\n",
       "      <td>0.513919</td>\n",
       "    </tr>\n",
       "    <tr>\n",
       "      <th>theta_B</th>\n",
       "      <td>10000.0</td>\n",
       "      <td>0.500013</td>\n",
       "      <td>0.003507</td>\n",
       "      <td>0.487501</td>\n",
       "      <td>0.497619</td>\n",
       "      <td>0.500032</td>\n",
       "      <td>0.502431</td>\n",
       "      <td>0.513888</td>\n",
       "    </tr>\n",
       "    <tr>\n",
       "      <th>y_A</th>\n",
       "      <td>10000.0</td>\n",
       "      <td>0.493800</td>\n",
       "      <td>0.499987</td>\n",
       "      <td>0.000000</td>\n",
       "      <td>0.000000</td>\n",
       "      <td>0.000000</td>\n",
       "      <td>1.000000</td>\n",
       "      <td>1.000000</td>\n",
       "    </tr>\n",
       "    <tr>\n",
       "      <th>y_B</th>\n",
       "      <td>10000.0</td>\n",
       "      <td>0.512600</td>\n",
       "      <td>0.499866</td>\n",
       "      <td>0.000000</td>\n",
       "      <td>0.000000</td>\n",
       "      <td>1.000000</td>\n",
       "      <td>1.000000</td>\n",
       "      <td>1.000000</td>\n",
       "    </tr>\n",
       "    <tr>\n",
       "      <th>uplift_B</th>\n",
       "      <td>10000.0</td>\n",
       "      <td>0.000115</td>\n",
       "      <td>0.010092</td>\n",
       "      <td>-0.034409</td>\n",
       "      <td>-0.006676</td>\n",
       "      <td>0.000111</td>\n",
       "      <td>0.006881</td>\n",
       "      <td>0.038522</td>\n",
       "    </tr>\n",
       "  </tbody>\n",
       "</table>\n",
       "</div>"
      ],
      "text/plain": [
       "            count      mean       std       min       25%       50%       75%  \\\n",
       "theta_A   10000.0  0.499981  0.003550  0.486897  0.497561  0.499964  0.502415   \n",
       "theta_B   10000.0  0.500013  0.003507  0.487501  0.497619  0.500032  0.502431   \n",
       "y_A       10000.0  0.493800  0.499987  0.000000  0.000000  0.000000  1.000000   \n",
       "y_B       10000.0  0.512600  0.499866  0.000000  0.000000  1.000000  1.000000   \n",
       "uplift_B  10000.0  0.000115  0.010092 -0.034409 -0.006676  0.000111  0.006881   \n",
       "\n",
       "               max  \n",
       "theta_A   0.513919  \n",
       "theta_B   0.513888  \n",
       "y_A       1.000000  \n",
       "y_B       1.000000  \n",
       "uplift_B  0.038522  "
      ]
     },
     "execution_count": 31,
     "metadata": {},
     "output_type": "execute_result"
    }
   ],
   "source": [
    "strong_outcome.describe().T"
   ]
  },
  {
   "cell_type": "code",
   "execution_count": 32,
   "id": "25bbec43-d6bb-4dd6-81a9-a3423001f795",
   "metadata": {},
   "outputs": [
    {
     "data": {
      "image/png": "[encoded data removed]",
      "text/plain": [
       "<Figure size 700x700 with 2 Axes>"
      ]
     },
     "metadata": {},
     "output_type": "display_data"
    }
   ],
   "source": [
    "fig, axs = plt.subplots(2, 1, figsize=(7, 7), sharex=True)\n",
    "\n",
    "az.plot_posterior(weak_outcome[\"uplift_B\"].values, ax=axs[0], **plotting_defaults)\n",
    "axs[0].set_title(f\"B vs. A Relative Uplift Prior Predictive, {weak_priors}\", fontsize=10)\n",
    "axs[0].axvline(x=0, color=\"red\")\n",
    "\n",
    "az.plot_posterior(strong_outcome[\"uplift_B\"].values, ax=axs[1], **plotting_defaults)\n",
    "axs[1].set_title(f\"B vs. A Relative Uplift Prior Predictive, {strong_priors}\", fontsize=10)\n",
    "axs[1].axvline(x=0, color=\"red\");"
   ]
  },
  {
   "attachments": {},
   "cell_type": "markdown",
   "id": "582fabc8-fdc4-4cf1-bb46-14ffaebd3179",
   "metadata": {},
   "source": [
    "How we choose these priors in practice depends on broader context of the company running the A/B tests. \n",
    "\n",
    "- A strong prior can help guard against false discoveries, but may **require more data** to detect winning variants when they exist (and more data = more time required running the test). \n",
    "- A weak prior gives **more weight to the observed data**, but could also lead to more false discoveries as a result of early stopping issues."
   ]
  },
  {
   "attachments": {},
   "cell_type": "markdown",
   "id": "98b8c905-6aa6-4479-bb77-ea02ebaa17bc",
   "metadata": {},
   "source": [
    "### PART II: data is there, let's check the posterior"
   ]
  },
  {
   "cell_type": "code",
   "execution_count": 57,
   "id": "e02c93b3",
   "metadata": {},
   "outputs": [],
   "source": [
    "%run -i temp_tools.py"
   ]
  },
  {
   "attachments": {},
   "cell_type": "markdown",
   "id": "cd19412a-fcf5-479a-b7d7-f1c23a53b15e",
   "metadata": {},
   "source": [
    "#### case I: same underlying rates"
   ]
  },
  {
   "cell_type": "code",
   "execution_count": 73,
   "id": "9f5c75e6-801d-433b-a055-a22f7abcf129",
   "metadata": {},
   "outputs": [
    {
     "data": {
      "text/html": [
       "<div>\n",
       "<style scoped>\n",
       "    .dataframe tbody tr th:only-of-type {\n",
       "        vertical-align: middle;\n",
       "    }\n",
       "\n",
       "    .dataframe tbody tr th {\n",
       "        vertical-align: top;\n",
       "    }\n",
       "\n",
       "    .dataframe thead th {\n",
       "        text-align: right;\n",
       "    }\n",
       "</style>\n",
       "<table border=\"1\" class=\"dataframe\">\n",
       "  <thead>\n",
       "    <tr style=\"text-align: right;\">\n",
       "      <th></th>\n",
       "      <th>A</th>\n",
       "      <th>B</th>\n",
       "    </tr>\n",
       "  </thead>\n",
       "  <tbody>\n",
       "    <tr>\n",
       "      <th>trials</th>\n",
       "      <td>100000</td>\n",
       "      <td>100000</td>\n",
       "    </tr>\n",
       "    <tr>\n",
       "      <th>successes</th>\n",
       "      <td>23025</td>\n",
       "      <td>22812</td>\n",
       "    </tr>\n",
       "  </tbody>\n",
       "</table>\n",
       "</div>"
      ],
      "text/plain": [
       "                A       B\n",
       "trials     100000  100000\n",
       "successes   23025   22812"
      ]
     },
     "execution_count": 73,
     "metadata": {},
     "output_type": "execute_result"
    }
   ],
   "source": [
    "# case 1: both A and B have the same “true” conversion rates\n",
    "case1 = pd.DataFrame()\n",
    "case1['A'] = bernoulli.rvs(p = 0.23, size = 10**5)\n",
    "case1['B'] = bernoulli.rvs(p = 0.23, size = 10**5)\n",
    "\n",
    "case1 = case1.aggregate([\"count\", \"sum\"]).rename(index={\"count\": \"trials\", \"sum\": \"successes\"})\n",
    "case1"
   ]
  },
  {
   "cell_type": "code",
   "execution_count": 74,
   "id": "c87ff46e-3a0d-4f34-b1dd-b2f113618c3e",
   "metadata": {},
   "outputs": [],
   "source": [
    "trials    = [case1['A'].trials, case1['B'].trials]\n",
    "successes = [case1['A'].successes, case1['B'].successes]"
   ]
  },
  {
   "cell_type": "code",
   "execution_count": 58,
   "id": "95032e46",
   "metadata": {},
   "outputs": [
    {
     "name": "stderr",
     "output_type": "stream",
     "text": [
      "Auto-assigning NUTS sampler...\n",
      "Initializing NUTS using jitter+adapt_diag...\n",
      "Multiprocess sampling (4 chains in 4 jobs)\n",
      "NUTS: [theta]\n"
     ]
    },
    {
     "data": {
      "text/html": [
       "\n",
       "<style>\n",
       "    /* Turns off some styling */\n",
       "    progress {\n",
       "        /* gets rid of default border in Firefox and Opera. */\n",
       "        border: none;\n",
       "        /* Needs to be in here for Safari polyfill so background images work as expected. */\n",
       "        background-size: auto;\n",
       "    }\n",
       "    progress:not([value]), progress:not([value])::-webkit-progress-bar {\n",
       "        background: repeating-linear-gradient(45deg, #7e7e7e, #7e7e7e 10px, #5c5c5c 10px, #5c5c5c 20px);\n",
       "    }\n",
       "    .progress-bar-interrupted, .progress-bar-interrupted::-webkit-progress-bar {\n",
       "        background: #F44336;\n",
       "    }\n",
       "</style>\n"
      ],
      "text/plain": [
       "<IPython.core.display.HTML object>"
      ]
     },
     "metadata": {},
     "output_type": "display_data"
    },
    {
     "data": {
      "text/html": [
       "\n",
       "    <div>\n",
       "      <progress value='24000' class='' max='24000' style='width:300px; height:20px; vertical-align: middle;'></progress>\n",
       "      100.00% [24000/24000 00:05&lt;00:00 Sampling 4 chains, 0 divergences]\n",
       "    </div>\n",
       "    "
      ],
      "text/plain": [
       "<IPython.core.display.HTML object>"
      ]
     },
     "metadata": {},
     "output_type": "display_data"
    },
    {
     "name": "stderr",
     "output_type": "stream",
     "text": [
      "Sampling 4 chains for 1_000 tune and 5_000 draw iterations (4_000 + 20_000 draws total) took 23 seconds.\n"
     ]
    }
   ],
   "source": [
    "weak_priors = BetaPrior(alpha=100, beta=100)\n",
    "trace_weak = get_posterior(weak_priors, trials, successes)"
   ]
  },
  {
   "cell_type": "code",
   "execution_count": 55,
   "id": "4e8795e4",
   "metadata": {},
   "outputs": [
    {
     "name": "stderr",
     "output_type": "stream",
     "text": [
      "Auto-assigning NUTS sampler...\n",
      "Initializing NUTS using jitter+adapt_diag...\n",
      "Multiprocess sampling (4 chains in 4 jobs)\n",
      "NUTS: [theta]\n"
     ]
    },
    {
     "data": {
      "text/html": [
       "\n",
       "<style>\n",
       "    /* Turns off some styling */\n",
       "    progress {\n",
       "        /* gets rid of default border in Firefox and Opera. */\n",
       "        border: none;\n",
       "        /* Needs to be in here for Safari polyfill so background images work as expected. */\n",
       "        background-size: auto;\n",
       "    }\n",
       "    progress:not([value]), progress:not([value])::-webkit-progress-bar {\n",
       "        background: repeating-linear-gradient(45deg, #7e7e7e, #7e7e7e 10px, #5c5c5c 10px, #5c5c5c 20px);\n",
       "    }\n",
       "    .progress-bar-interrupted, .progress-bar-interrupted::-webkit-progress-bar {\n",
       "        background: #F44336;\n",
       "    }\n",
       "</style>\n"
      ],
      "text/plain": [
       "<IPython.core.display.HTML object>"
      ]
     },
     "metadata": {},
     "output_type": "display_data"
    },
    {
     "data": {
      "text/html": [
       "\n",
       "    <div>\n",
       "      <progress value='24000' class='' max='24000' style='width:300px; height:20px; vertical-align: middle;'></progress>\n",
       "      100.00% [24000/24000 00:06&lt;00:00 Sampling 4 chains, 0 divergences]\n",
       "    </div>\n",
       "    "
      ],
      "text/plain": [
       "<IPython.core.display.HTML object>"
      ]
     },
     "metadata": {},
     "output_type": "display_data"
    },
    {
     "name": "stderr",
     "output_type": "stream",
     "text": [
      "Sampling 4 chains for 1_000 tune and 5_000 draw iterations (4_000 + 20_000 draws total) took 25 seconds.\n"
     ]
    }
   ],
   "source": [
    "strong_priors = BetaPrior(alpha=10000, beta=10000)\n",
    "trace_strong = get_posterior(strong_priors, trials, successes)"
   ]
  },
  {
   "cell_type": "code",
   "execution_count": 65,
   "id": "1b7c0160",
   "metadata": {},
   "outputs": [
    {
     "data": {
      "image/png": "[encoded data removed]",
      "text/plain": [
       "<Figure size 600x600 with 2 Axes>"
      ]
     },
     "metadata": {},
     "output_type": "display_data"
    }
   ],
   "source": [
    "fig, axs = plt.subplots(2, 1, figsize=(6, 6), sharex=True)\n",
    "\n",
    "az.plot_posterior(trace_weak.posterior[\"uplift_B\"], ax=axs[0], **plotting_defaults)\n",
    "axs[0].set_title(f\"B vs. A Relative Uplift Posterior Predictive, {weak_priors}\", fontsize=10)\n",
    "axs[0].axvline(x=0, color=\"red\")\n",
    "\n",
    "az.plot_posterior(trace_strong.posterior[\"uplift_B\"], ax=axs[1], **plotting_defaults)\n",
    "axs[1].set_title(f\"B vs. A Relative Uplift Posterior Predictive, {strong_priors}\", fontsize=10)\n",
    "axs[1].axvline(x=0, color=\"red\")\n",
    "\n",
    "plt.tight_layout()\n",
    "plt.show()"
   ]
  },
  {
   "attachments": {},
   "cell_type": "markdown",
   "id": "267ca1cf-86ac-4735-95ee-0adc579d4524",
   "metadata": {},
   "source": [
    "- In both cases, the true uplift of 0% lies within the 94% HDI.\n",
    "- We can then use this relative uplift distribution to make a decision about whether to apply the new landing page / features in Variant B as the default. For example, we can decide that if the 94% HDI is above 0, we would roll out Variant B. In this case, 0 is in the HDI, so the decision would be to not roll out Variant B."
   ]
  },
  {
   "attachments": {},
   "cell_type": "markdown",
   "id": "6bec7691-0f09-4a21-a6f5-81418e7271f0",
   "metadata": {},
   "source": [
    "#### case II: different underlying rates"
   ]
  },
  {
   "cell_type": "code",
   "execution_count": 67,
   "id": "49946cd9-a9af-4bfa-afca-e1c5e6d7f955",
   "metadata": {},
   "outputs": [
    {
     "data": {
      "text/html": [
       "<div>\n",
       "<style scoped>\n",
       "    .dataframe tbody tr th:only-of-type {\n",
       "        vertical-align: middle;\n",
       "    }\n",
       "\n",
       "    .dataframe tbody tr th {\n",
       "        vertical-align: top;\n",
       "    }\n",
       "\n",
       "    .dataframe thead th {\n",
       "        text-align: right;\n",
       "    }\n",
       "</style>\n",
       "<table border=\"1\" class=\"dataframe\">\n",
       "  <thead>\n",
       "    <tr style=\"text-align: right;\">\n",
       "      <th></th>\n",
       "      <th>A</th>\n",
       "      <th>B</th>\n",
       "    </tr>\n",
       "  </thead>\n",
       "  <tbody>\n",
       "    <tr>\n",
       "      <th>trials</th>\n",
       "      <td>100000</td>\n",
       "      <td>100000</td>\n",
       "    </tr>\n",
       "    <tr>\n",
       "      <th>successes</th>\n",
       "      <td>20700</td>\n",
       "      <td>22904</td>\n",
       "    </tr>\n",
       "  </tbody>\n",
       "</table>\n",
       "</div>"
      ],
      "text/plain": [
       "                A       B\n",
       "trials     100000  100000\n",
       "successes   20700   22904"
      ]
     },
     "execution_count": 67,
     "metadata": {},
     "output_type": "execute_result"
    }
   ],
   "source": [
    "# case II: variant B has a higher true conversion rate\n",
    "case2 = pd.DataFrame()\n",
    "case2['A'] = bernoulli.rvs(p = 0.21, size = 10**5)\n",
    "case2['B'] = bernoulli.rvs(p = 0.23, size = 10**5)\n",
    "\n",
    "case2 = case2.aggregate([\"count\", \"sum\"]).rename(index={\"count\": \"trials\", \"sum\": \"successes\"})\n",
    "case2"
   ]
  },
  {
   "cell_type": "code",
   "execution_count": 75,
   "id": "a24642aa-21af-4359-8544-2e9da5ede8d7",
   "metadata": {},
   "outputs": [],
   "source": [
    "trials    = [case2['A'].trials, case2['B'].trials]\n",
    "successes = [case2['A'].successes, case2['B'].successes]"
   ]
  },
  {
   "cell_type": "code",
   "execution_count": 76,
   "id": "5aeb47c3",
   "metadata": {},
   "outputs": [
    {
     "name": "stderr",
     "output_type": "stream",
     "text": [
      "Auto-assigning NUTS sampler...\n",
      "Initializing NUTS using jitter+adapt_diag...\n",
      "Multiprocess sampling (4 chains in 4 jobs)\n",
      "NUTS: [theta]\n"
     ]
    },
    {
     "data": {
      "text/html": [
       "\n",
       "<style>\n",
       "    /* Turns off some styling */\n",
       "    progress {\n",
       "        /* gets rid of default border in Firefox and Opera. */\n",
       "        border: none;\n",
       "        /* Needs to be in here for Safari polyfill so background images work as expected. */\n",
       "        background-size: auto;\n",
       "    }\n",
       "    progress:not([value]), progress:not([value])::-webkit-progress-bar {\n",
       "        background: repeating-linear-gradient(45deg, #7e7e7e, #7e7e7e 10px, #5c5c5c 10px, #5c5c5c 20px);\n",
       "    }\n",
       "    .progress-bar-interrupted, .progress-bar-interrupted::-webkit-progress-bar {\n",
       "        background: #F44336;\n",
       "    }\n",
       "</style>\n"
      ],
      "text/plain": [
       "<IPython.core.display.HTML object>"
      ]
     },
     "metadata": {},
     "output_type": "display_data"
    },
    {
     "data": {
      "text/html": [
       "\n",
       "    <div>\n",
       "      <progress value='24000' class='' max='24000' style='width:300px; height:20px; vertical-align: middle;'></progress>\n",
       "      100.00% [24000/24000 00:05&lt;00:00 Sampling 4 chains, 0 divergences]\n",
       "    </div>\n",
       "    "
      ],
      "text/plain": [
       "<IPython.core.display.HTML object>"
      ]
     },
     "metadata": {},
     "output_type": "display_data"
    },
    {
     "name": "stderr",
     "output_type": "stream",
     "text": [
      "Sampling 4 chains for 1_000 tune and 5_000 draw iterations (4_000 + 20_000 draws total) took 25 seconds.\n"
     ]
    }
   ],
   "source": [
    "weak_priors = BetaPrior(alpha=100, beta=100)\n",
    "trace_weak = get_posterior(weak_priors, trials, successes)"
   ]
  },
  {
   "cell_type": "code",
   "execution_count": 77,
   "id": "361fb8b4",
   "metadata": {},
   "outputs": [
    {
     "name": "stderr",
     "output_type": "stream",
     "text": [
      "Auto-assigning NUTS sampler...\n",
      "Initializing NUTS using jitter+adapt_diag...\n",
      "Multiprocess sampling (4 chains in 4 jobs)\n",
      "NUTS: [theta]\n"
     ]
    },
    {
     "data": {
      "text/html": [
       "\n",
       "<style>\n",
       "    /* Turns off some styling */\n",
       "    progress {\n",
       "        /* gets rid of default border in Firefox and Opera. */\n",
       "        border: none;\n",
       "        /* Needs to be in here for Safari polyfill so background images work as expected. */\n",
       "        background-size: auto;\n",
       "    }\n",
       "    progress:not([value]), progress:not([value])::-webkit-progress-bar {\n",
       "        background: repeating-linear-gradient(45deg, #7e7e7e, #7e7e7e 10px, #5c5c5c 10px, #5c5c5c 20px);\n",
       "    }\n",
       "    .progress-bar-interrupted, .progress-bar-interrupted::-webkit-progress-bar {\n",
       "        background: #F44336;\n",
       "    }\n",
       "</style>\n"
      ],
      "text/plain": [
       "<IPython.core.display.HTML object>"
      ]
     },
     "metadata": {},
     "output_type": "display_data"
    },
    {
     "data": {
      "text/html": [
       "\n",
       "    <div>\n",
       "      <progress value='24000' class='' max='24000' style='width:300px; height:20px; vertical-align: middle;'></progress>\n",
       "      100.00% [24000/24000 00:06&lt;00:00 Sampling 4 chains, 0 divergences]\n",
       "    </div>\n",
       "    "
      ],
      "text/plain": [
       "<IPython.core.display.HTML object>"
      ]
     },
     "metadata": {},
     "output_type": "display_data"
    },
    {
     "name": "stderr",
     "output_type": "stream",
     "text": [
      "Sampling 4 chains for 1_000 tune and 5_000 draw iterations (4_000 + 20_000 draws total) took 25 seconds.\n"
     ]
    }
   ],
   "source": [
    "strong_priors = BetaPrior(alpha=10000, beta=10000)\n",
    "trace_strong = get_posterior(strong_priors, trials, successes)"
   ]
  },
  {
   "cell_type": "code",
   "execution_count": 78,
   "id": "50b1552f",
   "metadata": {},
   "outputs": [
    {
     "data": {
      "image/png": "[encoded data removed]",
      "text/plain": [
       "<Figure size 600x600 with 2 Axes>"
      ]
     },
     "metadata": {},
     "output_type": "display_data"
    }
   ],
   "source": [
    "fig, axs = plt.subplots(2, 1, figsize=(6,6), sharex=True)\n",
    "\n",
    "az.plot_posterior(trace_weak.posterior[\"uplift_B\"], ax=axs[0], **plotting_defaults)\n",
    "axs[0].set_title(f\"B vs. A Relative Uplift Posterior Predictive, {weak_priors}\", fontsize=10)\n",
    "axs[0].axvline(x=0, color=\"red\")\n",
    "\n",
    "az.plot_posterior(trace_strong.posterior[\"uplift_B\"], ax=axs[1], **plotting_defaults)\n",
    "axs[1].set_title(f\"B vs. A Relative Uplift Posterior Predictive, {strong_priors}\", fontsize=10)\n",
    "axs[1].axvline(x=0, color=\"red\")\n",
    "\n",
    "plt.tight_layout()\n",
    "plt.show()"
   ]
  },
  {
   "attachments": {},
   "cell_type": "markdown",
   "id": "b41c50e7-0e91-4705-ad55-41e458861ea6",
   "metadata": {},
   "source": [
    "- In both cases, the posterior relative uplift distribution suggests that B has a higher conversion rate than A, as the 94% HDI is well above 0. The decision in this case would be to roll out Variant B to all users, and this outcome “true discovery”.\n",
    "\n",
    "- That said, in practice are usually also interested in how much better Variant B is. For the model with the strong prior, the prior is effectively pulling the relative uplift distribution closer to 0, so our central estimate of the relative uplift is conservative (i.e. understated). We would need much more data for our inference to get closer to the true relative uplift of 9.5%.\n",
    "\n",
    "The above examples demonstrate how to calculate perform A/B testing analysis for a two-variant test with the simple Beta-Binomial model, and the benefits and disadvantages of choosing a weak vs. strong prior. In the next section we provide a guide for handling a multi-variant (“A/B/n”) test."
   ]
  }
 ],
 "metadata": {
  "kernelspec": {
   "display_name": "workshop",
   "language": "python",
   "name": "python3"
  },
  "language_info": {
   "codemirror_mode": {
    "name": "ipython",
    "version": 3
   },
   "file_extension": ".py",
   "mimetype": "text/x-python",
   "name": "python",
   "nbconvert_exporter": "python",
   "pygments_lexer": "ipython3",
   "version": "3.10.11"
  }
 },
 "nbformat": 4,
 "nbformat_minor": 5
}
